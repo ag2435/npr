{
 "cells": [
  {
   "cell_type": "code",
   "execution_count": 1,
   "metadata": {},
   "outputs": [],
   "source": [
    "import os\n",
    "import pickle\n",
    "import numpy as np\n",
    "# from numpy.linalg import LinAlgError\n",
    "\n",
    "# utils for plotting\n",
    "import plotly.graph_objects as go\n",
    "import plotly.colors as colors"
   ]
  },
  {
   "cell_type": "code",
   "execution_count": 14,
   "metadata": {},
   "outputs": [],
   "source": [
    "dataset = 'housing'\n",
    "score_dir = 'output/scores'\n",
    "fig_dir = 'output/figures'\n",
    "thin_list = ['full', 'st', 'kt', 'rpcholesky']\n",
    "method = 'krr'\n",
    "kernel = 'gaussian'\n",
    "n_trials = 100"
   ]
  },
  {
   "cell_type": "code",
   "execution_count": 15,
   "metadata": {},
   "outputs": [
    {
     "ename": "FileNotFoundError",
     "evalue": "[Errno 2] No such file or directory: 'output/scores/rpcholesky-krr-k=gaussian-dataset=housing-t100.pkl'",
     "output_type": "error",
     "traceback": [
      "\u001b[0;31m---------------------------------------------------------------------------\u001b[0m",
      "\u001b[0;31mFileNotFoundError\u001b[0m                         Traceback (most recent call last)",
      "\u001b[1;32m/Users/ag2435/kt_regression/src/npr/examples/neurips/plot_housing.ipynb Cell 3\u001b[0m line \u001b[0;36m8\n\u001b[1;32m      <a href='vscode-notebook-cell:/Users/ag2435/kt_regression/src/npr/examples/neurips/plot_housing.ipynb#W2sZmlsZQ%3D%3D?line=2'>3</a>\u001b[0m \u001b[39mfor\u001b[39;00m thin \u001b[39min\u001b[39;00m thin_list:\n\u001b[1;32m      <a href='vscode-notebook-cell:/Users/ag2435/kt_regression/src/npr/examples/neurips/plot_housing.ipynb#W2sZmlsZQ%3D%3D?line=3'>4</a>\u001b[0m     score_file \u001b[39m=\u001b[39m os\u001b[39m.\u001b[39mpath\u001b[39m.\u001b[39mjoin(\n\u001b[1;32m      <a href='vscode-notebook-cell:/Users/ag2435/kt_regression/src/npr/examples/neurips/plot_housing.ipynb#W2sZmlsZQ%3D%3D?line=4'>5</a>\u001b[0m         score_dir,\n\u001b[1;32m      <a href='vscode-notebook-cell:/Users/ag2435/kt_regression/src/npr/examples/neurips/plot_housing.ipynb#W2sZmlsZQ%3D%3D?line=5'>6</a>\u001b[0m         \u001b[39mf\u001b[39m\u001b[39m\"\u001b[39m\u001b[39m{\u001b[39;00mthin\u001b[39m}\u001b[39;00m\u001b[39m-\u001b[39m\u001b[39m{\u001b[39;00mmethod\u001b[39m}\u001b[39;00m\u001b[39m-k=\u001b[39m\u001b[39m{\u001b[39;00mkernel\u001b[39m}\u001b[39;00m\u001b[39m-dataset=\u001b[39m\u001b[39m{\u001b[39;00mdataset\u001b[39m}\u001b[39;00m\u001b[39m-t\u001b[39m\u001b[39m{\u001b[39;00mn_trials\u001b[39m}\u001b[39;00m\u001b[39m.pkl\u001b[39m\u001b[39m\"\u001b[39m\n\u001b[1;32m      <a href='vscode-notebook-cell:/Users/ag2435/kt_regression/src/npr/examples/neurips/plot_housing.ipynb#W2sZmlsZQ%3D%3D?line=6'>7</a>\u001b[0m     )\n\u001b[0;32m----> <a href='vscode-notebook-cell:/Users/ag2435/kt_regression/src/npr/examples/neurips/plot_housing.ipynb#W2sZmlsZQ%3D%3D?line=7'>8</a>\u001b[0m     \u001b[39mwith\u001b[39;00m \u001b[39mopen\u001b[39;49m(score_file, \u001b[39m'\u001b[39;49m\u001b[39mrb\u001b[39;49m\u001b[39m'\u001b[39;49m) \u001b[39mas\u001b[39;00m f:\n\u001b[1;32m      <a href='vscode-notebook-cell:/Users/ag2435/kt_regression/src/npr/examples/neurips/plot_housing.ipynb#W2sZmlsZQ%3D%3D?line=8'>9</a>\u001b[0m         result \u001b[39m=\u001b[39m pickle\u001b[39m.\u001b[39mload(f)\n\u001b[1;32m     <a href='vscode-notebook-cell:/Users/ag2435/kt_regression/src/npr/examples/neurips/plot_housing.ipynb#W2sZmlsZQ%3D%3D?line=10'>11</a>\u001b[0m     \u001b[39mfor\u001b[39;00m r \u001b[39min\u001b[39;00m result:\n",
      "File \u001b[0;32m~/anaconda3/envs/goodpoints/lib/python3.10/site-packages/IPython/core/interactiveshell.py:284\u001b[0m, in \u001b[0;36m_modified_open\u001b[0;34m(file, *args, **kwargs)\u001b[0m\n\u001b[1;32m    277\u001b[0m \u001b[39mif\u001b[39;00m file \u001b[39min\u001b[39;00m {\u001b[39m0\u001b[39m, \u001b[39m1\u001b[39m, \u001b[39m2\u001b[39m}:\n\u001b[1;32m    278\u001b[0m     \u001b[39mraise\u001b[39;00m \u001b[39mValueError\u001b[39;00m(\n\u001b[1;32m    279\u001b[0m         \u001b[39mf\u001b[39m\u001b[39m\"\u001b[39m\u001b[39mIPython won\u001b[39m\u001b[39m'\u001b[39m\u001b[39mt let you open fd=\u001b[39m\u001b[39m{\u001b[39;00mfile\u001b[39m}\u001b[39;00m\u001b[39m by default \u001b[39m\u001b[39m\"\u001b[39m\n\u001b[1;32m    280\u001b[0m         \u001b[39m\"\u001b[39m\u001b[39mas it is likely to crash IPython. If you know what you are doing, \u001b[39m\u001b[39m\"\u001b[39m\n\u001b[1;32m    281\u001b[0m         \u001b[39m\"\u001b[39m\u001b[39myou can use builtins\u001b[39m\u001b[39m'\u001b[39m\u001b[39m open.\u001b[39m\u001b[39m\"\u001b[39m\n\u001b[1;32m    282\u001b[0m     )\n\u001b[0;32m--> 284\u001b[0m \u001b[39mreturn\u001b[39;00m io_open(file, \u001b[39m*\u001b[39;49margs, \u001b[39m*\u001b[39;49m\u001b[39m*\u001b[39;49mkwargs)\n",
      "\u001b[0;31mFileNotFoundError\u001b[0m: [Errno 2] No such file or directory: 'output/scores/rpcholesky-krr-k=gaussian-dataset=housing-t100.pkl'"
     ]
    }
   ],
   "source": [
    "results = []\n",
    "names = []\n",
    "for thin in thin_list:\n",
    "    score_file = os.path.join(\n",
    "        score_dir,\n",
    "        f\"{thin}-{method}-k={kernel}-dataset={dataset}-t{n_trials}.pkl\"\n",
    "    )\n",
    "    with open(score_file, 'rb') as f:\n",
    "        result = pickle.load(f)\n",
    "        \n",
    "    for r in result:\n",
    "        name = f\"{thin}-{method}\"\n",
    "        if name not in names:\n",
    "            names.append(name)\n",
    "        r['name'] = name\n",
    "        results.append(r)"
   ]
  },
  {
   "cell_type": "code",
   "execution_count": 4,
   "metadata": {},
   "outputs": [
    {
     "data": {
      "text/plain": [
       "3"
      ]
     },
     "execution_count": 4,
     "metadata": {},
     "output_type": "execute_result"
    }
   ],
   "source": [
    "len(results)"
   ]
  },
  {
   "cell_type": "markdown",
   "metadata": {},
   "source": [
    "## Test MSE"
   ]
  },
  {
   "cell_type": "code",
   "execution_count": 5,
   "metadata": {},
   "outputs": [],
   "source": [
    "fig = go.Figure()\n",
    "\n",
    "colors_list = colors.qualitative.Plotly * (\n",
    "    len(thin_list) // len(colors.qualitative.Plotly) + 1\n",
    ")\n",
    "colors_used = set()"
   ]
  },
  {
   "cell_type": "code",
   "execution_count": 6,
   "metadata": {},
   "outputs": [
    {
     "data": {
      "application/vnd.plotly.v1+json": {
       "config": {
        "plotlyServerURL": "https://plot.ly"
       },
       "data": [
        {
         "boxmean": true,
         "legendgroup": "full-krr",
         "line": {
          "color": "#636EFA"
         },
         "name": "full-krr",
         "offsetgroup": "full-krr",
         "showlegend": true,
         "type": "box",
         "x": [
          "housing"
         ],
         "y": [
          -1.2732926751331037
         ]
        },
        {
         "boxmean": true,
         "legendgroup": "st-krr",
         "line": {
          "color": "#EF553B"
         },
         "name": "st-krr",
         "offsetgroup": "st-krr",
         "showlegend": true,
         "type": "box",
         "x": [
          "housing",
          "housing",
          "housing",
          "housing",
          "housing",
          "housing",
          "housing",
          "housing",
          "housing",
          "housing",
          "housing",
          "housing",
          "housing",
          "housing",
          "housing",
          "housing",
          "housing",
          "housing",
          "housing",
          "housing",
          "housing",
          "housing",
          "housing",
          "housing",
          "housing",
          "housing",
          "housing",
          "housing",
          "housing",
          "housing",
          "housing",
          "housing",
          "housing",
          "housing",
          "housing",
          "housing",
          "housing",
          "housing",
          "housing",
          "housing",
          "housing",
          "housing",
          "housing",
          "housing",
          "housing",
          "housing",
          "housing",
          "housing",
          "housing",
          "housing",
          "housing",
          "housing",
          "housing",
          "housing",
          "housing",
          "housing",
          "housing",
          "housing",
          "housing",
          "housing",
          "housing",
          "housing",
          "housing",
          "housing",
          "housing",
          "housing",
          "housing",
          "housing",
          "housing",
          "housing",
          "housing",
          "housing",
          "housing",
          "housing",
          "housing",
          "housing",
          "housing",
          "housing",
          "housing",
          "housing",
          "housing",
          "housing",
          "housing",
          "housing",
          "housing",
          "housing",
          "housing",
          "housing",
          "housing",
          "housing",
          "housing",
          "housing",
          "housing",
          "housing",
          "housing",
          "housing",
          "housing",
          "housing",
          "housing",
          "housing"
         ],
         "y": [
          -0.7870905516365515,
          -0.7950637796349279,
          -0.8197839408456769,
          -0.7665498031046133,
          -0.7836643139057318,
          -0.859970749723701,
          -0.8410794666873147,
          -0.8160379145217412,
          -0.7805760717781898,
          -0.8520847452071034,
          -0.7922749138712936,
          -0.8127611531740692,
          -0.7746728890067558,
          -0.8310145917917192,
          -0.803295260531286,
          -0.8149303408251088,
          -0.8053193547509304,
          -0.8168940001763658,
          -0.8299739818609132,
          -0.710377129898831,
          -0.7176511552397016,
          -0.8808422220337654,
          -0.8247401296736877,
          -0.7815599096660235,
          -0.8410852068084144,
          -0.6965611830098121,
          -0.8402410002371489,
          -0.8274999271283399,
          -0.797325928621619,
          -0.7403376025820457,
          -0.7943895997549767,
          -0.8075102408604417,
          -0.7956027453808273,
          -0.7411671313122793,
          -0.8268768397675005,
          -0.8540486960473771,
          -0.7847327823839575,
          -0.8343074012506847,
          -0.8260686320331451,
          -0.7932737254838975,
          -0.853871895706568,
          -0.7967296739527572,
          -0.7750837700009279,
          -0.763202430626026,
          -0.8837869030283861,
          -0.7721433831461866,
          -0.8176758043143432,
          -0.8100824118094938,
          -0.7632878647680534,
          -0.741224582704189,
          -0.8068008330518286,
          -0.858607878950276,
          -0.7624812618425062,
          -0.7834701353136588,
          -0.8398891010376349,
          -0.7739026527300561,
          -0.8185141538908579,
          -0.8179738610287319,
          -0.7454338541850005,
          -0.8416049931710387,
          -0.7756792062017434,
          -0.7110449374621535,
          -0.7588999240982766,
          -0.8590661580960668,
          -0.8897326692332603,
          -0.8004086612368406,
          -0.8332270822269169,
          -0.8364252829371339,
          -0.8447382102717833,
          -0.877443382460487,
          -0.8526428501938942,
          -0.6341939478311641,
          -0.7248849327627414,
          -0.7936507862520357,
          -0.8432115912775815,
          -0.7363074527585253,
          -0.817661827678959,
          -0.8474379126470412,
          -0.78190275906687,
          -0.8589925175932558,
          -0.8393600727678693,
          -0.8165542772903585,
          -0.7805810133812437,
          -0.789035791688818,
          -0.7378843289003654,
          -0.7980127736312238,
          -0.752884093896006,
          -0.8200433986002256,
          -0.873447913158859,
          -0.8270285336946942,
          -0.7881857802081794,
          -0.8674135579783356,
          -0.8058266480206454,
          -0.8316989105254249,
          -0.8286428117795619,
          -0.7884121182391225,
          -0.8049994982660096,
          -0.7689385416305642,
          -0.8028099073558344,
          -0.7246427783725831
         ]
        },
        {
         "boxmean": true,
         "legendgroup": "kt-krr",
         "line": {
          "color": "#00CC96"
         },
         "name": "kt-krr",
         "offsetgroup": "kt-krr",
         "showlegend": true,
         "type": "box",
         "x": [
          "housing",
          "housing",
          "housing",
          "housing",
          "housing",
          "housing",
          "housing",
          "housing",
          "housing",
          "housing",
          "housing",
          "housing",
          "housing",
          "housing",
          "housing",
          "housing",
          "housing",
          "housing",
          "housing",
          "housing",
          "housing",
          "housing",
          "housing",
          "housing",
          "housing",
          "housing",
          "housing",
          "housing",
          "housing",
          "housing",
          "housing",
          "housing",
          "housing",
          "housing",
          "housing",
          "housing",
          "housing",
          "housing",
          "housing",
          "housing",
          "housing",
          "housing",
          "housing",
          "housing",
          "housing",
          "housing",
          "housing",
          "housing",
          "housing",
          "housing",
          "housing",
          "housing",
          "housing",
          "housing",
          "housing",
          "housing",
          "housing",
          "housing",
          "housing",
          "housing",
          "housing",
          "housing",
          "housing",
          "housing",
          "housing",
          "housing",
          "housing",
          "housing",
          "housing",
          "housing",
          "housing",
          "housing",
          "housing",
          "housing",
          "housing",
          "housing",
          "housing",
          "housing",
          "housing",
          "housing",
          "housing",
          "housing",
          "housing",
          "housing",
          "housing",
          "housing",
          "housing",
          "housing",
          "housing",
          "housing",
          "housing",
          "housing",
          "housing",
          "housing",
          "housing",
          "housing",
          "housing",
          "housing",
          "housing",
          "housing"
         ],
         "y": [
          -0.8748031338513524,
          -0.8883389348031345,
          -0.8223431826808446,
          -0.8970777765696343,
          -0.8552090175199382,
          -0.8093047387558399,
          -0.8674932294532073,
          -0.7861811532531209,
          -0.8838675909473354,
          -0.8064633051358774,
          -0.8358261502589015,
          -0.8931577783195186,
          -0.8505505973729435,
          -0.8302506212496635,
          -0.7214215082237281,
          -0.8629172476383704,
          -0.7590861559256272,
          -0.8137094962213582,
          -0.829438278913718,
          -0.9203298231773906,
          -0.8488198674772809,
          -0.7313497268599869,
          -0.8380957794789298,
          -0.8353005801449128,
          -0.8417391730298106,
          -0.86707737394049,
          -0.8675643087210709,
          -0.8464098367087367,
          -0.7929646343584469,
          -0.8567602536632252,
          -0.822543720736455,
          -0.8781710854971304,
          -0.8260205826010293,
          -0.882020602827111,
          -0.8635400715680462,
          -0.9067205968020674,
          -0.830731021841574,
          -0.7823408297848962,
          -0.8847799595372733,
          -0.8161196897412107,
          -0.8088221691918899,
          -0.8970644302085464,
          -0.8637028352113206,
          -0.8736848438392404,
          -0.7819915363747741,
          -0.847457382164352,
          -0.8810561961611769,
          -0.8095327098638343,
          -0.8984506770206927,
          -0.8427275994971889,
          -0.8660516664072868,
          -0.920684285804001,
          -0.7948308613275542,
          -0.8493466708689846,
          -0.8189737734206504,
          -0.8539523540384264,
          -0.8506721528184139,
          -0.8273652848115488,
          -0.803376972572475,
          -0.8509223884156634,
          -0.7758517698889682,
          -0.8679175108252686,
          -0.8416737503599429,
          -0.8586842067300988,
          -0.8179895925116382,
          -0.86802479433163,
          -0.8473043094185507,
          -0.8082106573048572,
          -0.8688224962063241,
          -0.8340959670710884,
          -0.7619823260642177,
          -0.8178977269718972,
          -0.8653865052807833,
          -0.8496219221829485,
          -0.7755345284937276,
          -0.8048502697959372,
          -0.8812929553560365,
          -0.8904121539147309,
          -0.8725528869039024,
          -0.8524434002948154,
          -0.8512849829983297,
          -0.8537000026701428,
          -0.8313205855415401,
          -0.8844878545708467,
          -0.8564400146800617,
          -0.8685788926338986,
          -0.8229471635941017,
          -0.8272789801167951,
          -0.8269484284588982,
          -0.801280286941405,
          -0.8799255323570048,
          -0.8655946531681179,
          -0.8406844388852053,
          -0.8320355581108083,
          -0.8440498719189912,
          -0.7930231852153836,
          -0.8585003065778452,
          -0.8329403041353088,
          -0.8670073997182043,
          -0.8430403776904499
         ]
        }
       ],
       "layout": {
        "boxmode": "group",
        "height": 600,
        "template": {
         "data": {
          "bar": [
           {
            "error_x": {
             "color": "#2a3f5f"
            },
            "error_y": {
             "color": "#2a3f5f"
            },
            "marker": {
             "line": {
              "color": "#E5ECF6",
              "width": 0.5
             },
             "pattern": {
              "fillmode": "overlay",
              "size": 10,
              "solidity": 0.2
             }
            },
            "type": "bar"
           }
          ],
          "barpolar": [
           {
            "marker": {
             "line": {
              "color": "#E5ECF6",
              "width": 0.5
             },
             "pattern": {
              "fillmode": "overlay",
              "size": 10,
              "solidity": 0.2
             }
            },
            "type": "barpolar"
           }
          ],
          "carpet": [
           {
            "aaxis": {
             "endlinecolor": "#2a3f5f",
             "gridcolor": "white",
             "linecolor": "white",
             "minorgridcolor": "white",
             "startlinecolor": "#2a3f5f"
            },
            "baxis": {
             "endlinecolor": "#2a3f5f",
             "gridcolor": "white",
             "linecolor": "white",
             "minorgridcolor": "white",
             "startlinecolor": "#2a3f5f"
            },
            "type": "carpet"
           }
          ],
          "choropleth": [
           {
            "colorbar": {
             "outlinewidth": 0,
             "ticks": ""
            },
            "type": "choropleth"
           }
          ],
          "contour": [
           {
            "colorbar": {
             "outlinewidth": 0,
             "ticks": ""
            },
            "colorscale": [
             [
              0,
              "#0d0887"
             ],
             [
              0.1111111111111111,
              "#46039f"
             ],
             [
              0.2222222222222222,
              "#7201a8"
             ],
             [
              0.3333333333333333,
              "#9c179e"
             ],
             [
              0.4444444444444444,
              "#bd3786"
             ],
             [
              0.5555555555555556,
              "#d8576b"
             ],
             [
              0.6666666666666666,
              "#ed7953"
             ],
             [
              0.7777777777777778,
              "#fb9f3a"
             ],
             [
              0.8888888888888888,
              "#fdca26"
             ],
             [
              1,
              "#f0f921"
             ]
            ],
            "type": "contour"
           }
          ],
          "contourcarpet": [
           {
            "colorbar": {
             "outlinewidth": 0,
             "ticks": ""
            },
            "type": "contourcarpet"
           }
          ],
          "heatmap": [
           {
            "colorbar": {
             "outlinewidth": 0,
             "ticks": ""
            },
            "colorscale": [
             [
              0,
              "#0d0887"
             ],
             [
              0.1111111111111111,
              "#46039f"
             ],
             [
              0.2222222222222222,
              "#7201a8"
             ],
             [
              0.3333333333333333,
              "#9c179e"
             ],
             [
              0.4444444444444444,
              "#bd3786"
             ],
             [
              0.5555555555555556,
              "#d8576b"
             ],
             [
              0.6666666666666666,
              "#ed7953"
             ],
             [
              0.7777777777777778,
              "#fb9f3a"
             ],
             [
              0.8888888888888888,
              "#fdca26"
             ],
             [
              1,
              "#f0f921"
             ]
            ],
            "type": "heatmap"
           }
          ],
          "heatmapgl": [
           {
            "colorbar": {
             "outlinewidth": 0,
             "ticks": ""
            },
            "colorscale": [
             [
              0,
              "#0d0887"
             ],
             [
              0.1111111111111111,
              "#46039f"
             ],
             [
              0.2222222222222222,
              "#7201a8"
             ],
             [
              0.3333333333333333,
              "#9c179e"
             ],
             [
              0.4444444444444444,
              "#bd3786"
             ],
             [
              0.5555555555555556,
              "#d8576b"
             ],
             [
              0.6666666666666666,
              "#ed7953"
             ],
             [
              0.7777777777777778,
              "#fb9f3a"
             ],
             [
              0.8888888888888888,
              "#fdca26"
             ],
             [
              1,
              "#f0f921"
             ]
            ],
            "type": "heatmapgl"
           }
          ],
          "histogram": [
           {
            "marker": {
             "pattern": {
              "fillmode": "overlay",
              "size": 10,
              "solidity": 0.2
             }
            },
            "type": "histogram"
           }
          ],
          "histogram2d": [
           {
            "colorbar": {
             "outlinewidth": 0,
             "ticks": ""
            },
            "colorscale": [
             [
              0,
              "#0d0887"
             ],
             [
              0.1111111111111111,
              "#46039f"
             ],
             [
              0.2222222222222222,
              "#7201a8"
             ],
             [
              0.3333333333333333,
              "#9c179e"
             ],
             [
              0.4444444444444444,
              "#bd3786"
             ],
             [
              0.5555555555555556,
              "#d8576b"
             ],
             [
              0.6666666666666666,
              "#ed7953"
             ],
             [
              0.7777777777777778,
              "#fb9f3a"
             ],
             [
              0.8888888888888888,
              "#fdca26"
             ],
             [
              1,
              "#f0f921"
             ]
            ],
            "type": "histogram2d"
           }
          ],
          "histogram2dcontour": [
           {
            "colorbar": {
             "outlinewidth": 0,
             "ticks": ""
            },
            "colorscale": [
             [
              0,
              "#0d0887"
             ],
             [
              0.1111111111111111,
              "#46039f"
             ],
             [
              0.2222222222222222,
              "#7201a8"
             ],
             [
              0.3333333333333333,
              "#9c179e"
             ],
             [
              0.4444444444444444,
              "#bd3786"
             ],
             [
              0.5555555555555556,
              "#d8576b"
             ],
             [
              0.6666666666666666,
              "#ed7953"
             ],
             [
              0.7777777777777778,
              "#fb9f3a"
             ],
             [
              0.8888888888888888,
              "#fdca26"
             ],
             [
              1,
              "#f0f921"
             ]
            ],
            "type": "histogram2dcontour"
           }
          ],
          "mesh3d": [
           {
            "colorbar": {
             "outlinewidth": 0,
             "ticks": ""
            },
            "type": "mesh3d"
           }
          ],
          "parcoords": [
           {
            "line": {
             "colorbar": {
              "outlinewidth": 0,
              "ticks": ""
             }
            },
            "type": "parcoords"
           }
          ],
          "pie": [
           {
            "automargin": true,
            "type": "pie"
           }
          ],
          "scatter": [
           {
            "fillpattern": {
             "fillmode": "overlay",
             "size": 10,
             "solidity": 0.2
            },
            "type": "scatter"
           }
          ],
          "scatter3d": [
           {
            "line": {
             "colorbar": {
              "outlinewidth": 0,
              "ticks": ""
             }
            },
            "marker": {
             "colorbar": {
              "outlinewidth": 0,
              "ticks": ""
             }
            },
            "type": "scatter3d"
           }
          ],
          "scattercarpet": [
           {
            "marker": {
             "colorbar": {
              "outlinewidth": 0,
              "ticks": ""
             }
            },
            "type": "scattercarpet"
           }
          ],
          "scattergeo": [
           {
            "marker": {
             "colorbar": {
              "outlinewidth": 0,
              "ticks": ""
             }
            },
            "type": "scattergeo"
           }
          ],
          "scattergl": [
           {
            "marker": {
             "colorbar": {
              "outlinewidth": 0,
              "ticks": ""
             }
            },
            "type": "scattergl"
           }
          ],
          "scattermapbox": [
           {
            "marker": {
             "colorbar": {
              "outlinewidth": 0,
              "ticks": ""
             }
            },
            "type": "scattermapbox"
           }
          ],
          "scatterpolar": [
           {
            "marker": {
             "colorbar": {
              "outlinewidth": 0,
              "ticks": ""
             }
            },
            "type": "scatterpolar"
           }
          ],
          "scatterpolargl": [
           {
            "marker": {
             "colorbar": {
              "outlinewidth": 0,
              "ticks": ""
             }
            },
            "type": "scatterpolargl"
           }
          ],
          "scatterternary": [
           {
            "marker": {
             "colorbar": {
              "outlinewidth": 0,
              "ticks": ""
             }
            },
            "type": "scatterternary"
           }
          ],
          "surface": [
           {
            "colorbar": {
             "outlinewidth": 0,
             "ticks": ""
            },
            "colorscale": [
             [
              0,
              "#0d0887"
             ],
             [
              0.1111111111111111,
              "#46039f"
             ],
             [
              0.2222222222222222,
              "#7201a8"
             ],
             [
              0.3333333333333333,
              "#9c179e"
             ],
             [
              0.4444444444444444,
              "#bd3786"
             ],
             [
              0.5555555555555556,
              "#d8576b"
             ],
             [
              0.6666666666666666,
              "#ed7953"
             ],
             [
              0.7777777777777778,
              "#fb9f3a"
             ],
             [
              0.8888888888888888,
              "#fdca26"
             ],
             [
              1,
              "#f0f921"
             ]
            ],
            "type": "surface"
           }
          ],
          "table": [
           {
            "cells": {
             "fill": {
              "color": "#EBF0F8"
             },
             "line": {
              "color": "white"
             }
            },
            "header": {
             "fill": {
              "color": "#C8D4E3"
             },
             "line": {
              "color": "white"
             }
            },
            "type": "table"
           }
          ]
         },
         "layout": {
          "annotationdefaults": {
           "arrowcolor": "#2a3f5f",
           "arrowhead": 0,
           "arrowwidth": 1
          },
          "autotypenumbers": "strict",
          "coloraxis": {
           "colorbar": {
            "outlinewidth": 0,
            "ticks": ""
           }
          },
          "colorscale": {
           "diverging": [
            [
             0,
             "#8e0152"
            ],
            [
             0.1,
             "#c51b7d"
            ],
            [
             0.2,
             "#de77ae"
            ],
            [
             0.3,
             "#f1b6da"
            ],
            [
             0.4,
             "#fde0ef"
            ],
            [
             0.5,
             "#f7f7f7"
            ],
            [
             0.6,
             "#e6f5d0"
            ],
            [
             0.7,
             "#b8e186"
            ],
            [
             0.8,
             "#7fbc41"
            ],
            [
             0.9,
             "#4d9221"
            ],
            [
             1,
             "#276419"
            ]
           ],
           "sequential": [
            [
             0,
             "#0d0887"
            ],
            [
             0.1111111111111111,
             "#46039f"
            ],
            [
             0.2222222222222222,
             "#7201a8"
            ],
            [
             0.3333333333333333,
             "#9c179e"
            ],
            [
             0.4444444444444444,
             "#bd3786"
            ],
            [
             0.5555555555555556,
             "#d8576b"
            ],
            [
             0.6666666666666666,
             "#ed7953"
            ],
            [
             0.7777777777777778,
             "#fb9f3a"
            ],
            [
             0.8888888888888888,
             "#fdca26"
            ],
            [
             1,
             "#f0f921"
            ]
           ],
           "sequentialminus": [
            [
             0,
             "#0d0887"
            ],
            [
             0.1111111111111111,
             "#46039f"
            ],
            [
             0.2222222222222222,
             "#7201a8"
            ],
            [
             0.3333333333333333,
             "#9c179e"
            ],
            [
             0.4444444444444444,
             "#bd3786"
            ],
            [
             0.5555555555555556,
             "#d8576b"
            ],
            [
             0.6666666666666666,
             "#ed7953"
            ],
            [
             0.7777777777777778,
             "#fb9f3a"
            ],
            [
             0.8888888888888888,
             "#fdca26"
            ],
            [
             1,
             "#f0f921"
            ]
           ]
          },
          "colorway": [
           "#636efa",
           "#EF553B",
           "#00cc96",
           "#ab63fa",
           "#FFA15A",
           "#19d3f3",
           "#FF6692",
           "#B6E880",
           "#FF97FF",
           "#FECB52"
          ],
          "font": {
           "color": "#2a3f5f"
          },
          "geo": {
           "bgcolor": "white",
           "lakecolor": "white",
           "landcolor": "#E5ECF6",
           "showlakes": true,
           "showland": true,
           "subunitcolor": "white"
          },
          "hoverlabel": {
           "align": "left"
          },
          "hovermode": "closest",
          "mapbox": {
           "style": "light"
          },
          "paper_bgcolor": "white",
          "plot_bgcolor": "#E5ECF6",
          "polar": {
           "angularaxis": {
            "gridcolor": "white",
            "linecolor": "white",
            "ticks": ""
           },
           "bgcolor": "#E5ECF6",
           "radialaxis": {
            "gridcolor": "white",
            "linecolor": "white",
            "ticks": ""
           }
          },
          "scene": {
           "xaxis": {
            "backgroundcolor": "#E5ECF6",
            "gridcolor": "white",
            "gridwidth": 2,
            "linecolor": "white",
            "showbackground": true,
            "ticks": "",
            "zerolinecolor": "white"
           },
           "yaxis": {
            "backgroundcolor": "#E5ECF6",
            "gridcolor": "white",
            "gridwidth": 2,
            "linecolor": "white",
            "showbackground": true,
            "ticks": "",
            "zerolinecolor": "white"
           },
           "zaxis": {
            "backgroundcolor": "#E5ECF6",
            "gridcolor": "white",
            "gridwidth": 2,
            "linecolor": "white",
            "showbackground": true,
            "ticks": "",
            "zerolinecolor": "white"
           }
          },
          "shapedefaults": {
           "line": {
            "color": "#2a3f5f"
           }
          },
          "ternary": {
           "aaxis": {
            "gridcolor": "white",
            "linecolor": "white",
            "ticks": ""
           },
           "baxis": {
            "gridcolor": "white",
            "linecolor": "white",
            "ticks": ""
           },
           "bgcolor": "#E5ECF6",
           "caxis": {
            "gridcolor": "white",
            "linecolor": "white",
            "ticks": ""
           }
          },
          "title": {
           "x": 0.05
          },
          "xaxis": {
           "automargin": true,
           "gridcolor": "white",
           "linecolor": "white",
           "ticks": "",
           "title": {
            "standoff": 15
           },
           "zerolinecolor": "white",
           "zerolinewidth": 2
          },
          "yaxis": {
           "automargin": true,
           "gridcolor": "white",
           "linecolor": "white",
           "ticks": "",
           "title": {
            "standoff": 15
           },
           "zerolinecolor": "white",
           "zerolinewidth": 2
          }
         }
        },
        "title": {
         "text": "Test MSE (kernel=gaussian)"
        },
        "width": 800,
        "xaxis": {
         "title": {
          "text": "dataset"
         }
        },
        "yaxis": {
         "title": {
          "text": "log2(test MSE)"
         }
        }
       }
      }
     },
     "metadata": {},
     "output_type": "display_data"
    }
   ],
   "source": [
    "scale = 'log2'\n",
    "\n",
    "for result in results:\n",
    "    name = result['name']\n",
    "    color = colors_list[names.index(name)]\n",
    "\n",
    "    if scale == 'log2':\n",
    "        y = np.log2(np.abs(result[\"test_scores\"]))\n",
    "\n",
    "    elif scale == 'linear':\n",
    "        y = np.abs(result[\"test_scores\"])\n",
    "\n",
    "    trace = go.Box(\n",
    "        x=[dataset,]*len(result[\"test_scores\"]),\n",
    "        y=y,\n",
    "        name=name,\n",
    "        # opacity=0.5,\n",
    "        legendgroup=name,\n",
    "        line_color=color,\n",
    "        offsetgroup=name,\n",
    "        showlegend=color not in colors_used,\n",
    "        boxmean=True,\n",
    "    )\n",
    "\n",
    "    fig.add_trace(trace)\n",
    "    colors_used.add(color)\n",
    "\n",
    "fig.update_yaxes(title_text=f\"{scale}(test MSE)\")\n",
    "fig.update_xaxes(title_text=\"dataset\")\n",
    "fig.update_layout(\n",
    "    width=800,\n",
    "    height=600,\n",
    "    title=f\"Test MSE (kernel={kernel})\",\n",
    "    boxmode='group'\n",
    ")"
   ]
  },
  {
   "cell_type": "code",
   "execution_count": 7,
   "metadata": {},
   "outputs": [],
   "source": [
    "# save fig to file\n",
    "fig_file = os.path.join(\n",
    "    fig_dir,\n",
    "    f\"test_mse-{method}-k={kernel}-dataset={dataset}-t{n_trials}.png\"\n",
    ")\n",
    "fig.write_image(fig_file)"
   ]
  },
  {
   "cell_type": "markdown",
   "metadata": {},
   "source": [
    "## Training times"
   ]
  },
  {
   "cell_type": "code",
   "execution_count": 8,
   "metadata": {},
   "outputs": [],
   "source": [
    "fig = go.Figure()\n",
    "\n",
    "colors_list = colors.qualitative.Plotly * (\n",
    "    len(thin_list) // len(colors.qualitative.Plotly) + 1\n",
    ")\n",
    "colors_used = set()"
   ]
  },
  {
   "cell_type": "code",
   "execution_count": 9,
   "metadata": {},
   "outputs": [
    {
     "data": {
      "application/vnd.plotly.v1+json": {
       "config": {
        "plotlyServerURL": "https://plot.ly"
       },
       "data": [
        {
         "boxmean": true,
         "legendgroup": "full-krr",
         "line": {
          "color": "#636EFA"
         },
         "name": "full-krr",
         "offsetgroup": "full-krr",
         "showlegend": true,
         "type": "box",
         "x": [
          "housing"
         ],
         "y": [
          11.109475135803223
         ]
        },
        {
         "boxmean": true,
         "legendgroup": "st-krr",
         "line": {
          "color": "#EF553B"
         },
         "name": "st-krr",
         "offsetgroup": "st-krr",
         "showlegend": true,
         "type": "box",
         "x": [
          "housing",
          "housing",
          "housing",
          "housing",
          "housing",
          "housing",
          "housing",
          "housing",
          "housing",
          "housing",
          "housing",
          "housing",
          "housing",
          "housing",
          "housing",
          "housing",
          "housing",
          "housing",
          "housing",
          "housing",
          "housing",
          "housing",
          "housing",
          "housing",
          "housing",
          "housing",
          "housing",
          "housing",
          "housing",
          "housing",
          "housing",
          "housing",
          "housing",
          "housing",
          "housing",
          "housing",
          "housing",
          "housing",
          "housing",
          "housing",
          "housing",
          "housing",
          "housing",
          "housing",
          "housing",
          "housing",
          "housing",
          "housing",
          "housing",
          "housing",
          "housing",
          "housing",
          "housing",
          "housing",
          "housing",
          "housing",
          "housing",
          "housing",
          "housing",
          "housing",
          "housing",
          "housing",
          "housing",
          "housing",
          "housing",
          "housing",
          "housing",
          "housing",
          "housing",
          "housing",
          "housing",
          "housing",
          "housing",
          "housing",
          "housing",
          "housing",
          "housing",
          "housing",
          "housing",
          "housing",
          "housing",
          "housing",
          "housing",
          "housing",
          "housing",
          "housing",
          "housing",
          "housing",
          "housing",
          "housing",
          "housing",
          "housing",
          "housing",
          "housing",
          "housing",
          "housing",
          "housing",
          "housing",
          "housing",
          "housing"
         ],
         "y": [
          0.04200601577758789,
          0.0006182193756103516,
          0.0007131099700927734,
          0.0006060600280761719,
          0.0013508796691894531,
          0.02895188331604004,
          0.0007770061492919922,
          0.0005540847778320312,
          0.001600027084350586,
          0.0016949176788330078,
          0.0013020038604736328,
          0.0006000995635986328,
          0.0015151500701904297,
          0.0005979537963867188,
          0.003345966339111328,
          0.0006237030029296875,
          0.0005812644958496094,
          0.0006372928619384766,
          0.0006098747253417969,
          0.0005898475646972656,
          0.0006358623504638672,
          0.0006101131439208984,
          0.0005729198455810547,
          0.0005998611450195312,
          0.0031528472900390625,
          0.0006170272827148438,
          0.0006201267242431641,
          0.0015788078308105469,
          0.0005638599395751953,
          0.0005710124969482422,
          0.002056121826171875,
          0.0005719661712646484,
          0.003426790237426758,
          0.0012280941009521484,
          0.0018420219421386719,
          0.0021250247955322266,
          0.0005779266357421875,
          0.002470254898071289,
          0.0007297992706298828,
          0.004988908767700195,
          0.0005998611450195312,
          0.0005772113800048828,
          0.0005958080291748047,
          0.0005948543548583984,
          0.0007729530334472656,
          0.0005328655242919922,
          0.0005939006805419922,
          0.003481149673461914,
          0.0005667209625244141,
          0.0007719993591308594,
          0.0005667209625244141,
          0.0005898475646972656,
          0.0006148815155029297,
          0.0036978721618652344,
          0.00125885009765625,
          0.0006198883056640625,
          0.0007607936859130859,
          0.0017862319946289062,
          0.0005729198455810547,
          0.0006089210510253906,
          0.005294084548950195,
          0.003490924835205078,
          0.0005860328674316406,
          0.0005679130554199219,
          0.0006039142608642578,
          0.001995086669921875,
          0.0006520748138427734,
          0.0006289482116699219,
          0.0005900859832763672,
          0.0005931854248046875,
          0.0005860328674316406,
          0.0006210803985595703,
          0.0006117820739746094,
          0.0007662773132324219,
          0.002375364303588867,
          0.0005831718444824219,
          0.0012090206146240234,
          0.0005872249603271484,
          0.0005960464477539062,
          0.000598907470703125,
          0.0007350444793701172,
          0.0006079673767089844,
          0.0006539821624755859,
          0.0006439685821533203,
          0.0014157295227050781,
          0.0006477832794189453,
          0.0008258819580078125,
          0.0006260871887207031,
          0.0005991458892822266,
          0.0008940696716308594,
          0.0005660057067871094,
          0.0020499229431152344,
          0.0008027553558349609,
          0.0005688667297363281,
          0.0006148815155029297,
          0.0005958080291748047,
          0.0007259845733642578,
          0.0006091594696044922,
          0.00263214111328125,
          0.0006210803985595703
         ]
        },
        {
         "boxmean": true,
         "legendgroup": "kt-krr",
         "line": {
          "color": "#00CC96"
         },
         "name": "kt-krr",
         "offsetgroup": "kt-krr",
         "showlegend": true,
         "type": "box",
         "x": [
          "housing",
          "housing",
          "housing",
          "housing",
          "housing",
          "housing",
          "housing",
          "housing",
          "housing",
          "housing",
          "housing",
          "housing",
          "housing",
          "housing",
          "housing",
          "housing",
          "housing",
          "housing",
          "housing",
          "housing",
          "housing",
          "housing",
          "housing",
          "housing",
          "housing",
          "housing",
          "housing",
          "housing",
          "housing",
          "housing",
          "housing",
          "housing",
          "housing",
          "housing",
          "housing",
          "housing",
          "housing",
          "housing",
          "housing",
          "housing",
          "housing",
          "housing",
          "housing",
          "housing",
          "housing",
          "housing",
          "housing",
          "housing",
          "housing",
          "housing",
          "housing",
          "housing",
          "housing",
          "housing",
          "housing",
          "housing",
          "housing",
          "housing",
          "housing",
          "housing",
          "housing",
          "housing",
          "housing",
          "housing",
          "housing",
          "housing",
          "housing",
          "housing",
          "housing",
          "housing",
          "housing",
          "housing",
          "housing",
          "housing",
          "housing",
          "housing",
          "housing",
          "housing",
          "housing",
          "housing",
          "housing",
          "housing",
          "housing",
          "housing",
          "housing",
          "housing",
          "housing",
          "housing",
          "housing",
          "housing",
          "housing",
          "housing",
          "housing",
          "housing",
          "housing",
          "housing",
          "housing",
          "housing",
          "housing",
          "housing"
         ],
         "y": [
          0.022025108337402344,
          0.009308815002441406,
          0.009144067764282227,
          0.027431011199951172,
          0.011797904968261719,
          0.009584188461303711,
          0.009285211563110352,
          0.01677680015563965,
          0.016926050186157227,
          0.022330045700073242,
          0.020305871963500977,
          0.024510860443115234,
          0.01770186424255371,
          0.011932849884033203,
          0.010169029235839844,
          0.014343023300170898,
          0.015508890151977539,
          0.009480953216552734,
          0.01390695571899414,
          0.022247791290283203,
          0.057214975357055664,
          0.022346973419189453,
          0.013907909393310547,
          0.012196779251098633,
          0.016476869583129883,
          0.01739811897277832,
          0.017757892608642578,
          0.011258125305175781,
          0.012676000595092773,
          0.00953984260559082,
          0.012579917907714844,
          0.010598182678222656,
          0.011288881301879883,
          0.012747049331665039,
          0.011190652847290039,
          0.013543128967285156,
          0.014330863952636719,
          0.016273975372314453,
          0.009207010269165039,
          0.01633930206298828,
          0.010478973388671875,
          0.01941084861755371,
          0.011658906936645508,
          0.011015892028808594,
          0.00931096076965332,
          0.009414911270141602,
          0.018063068389892578,
          0.013636112213134766,
          0.013365030288696289,
          0.009620904922485352,
          0.014900922775268555,
          0.015466928482055664,
          0.012630701065063477,
          0.020485877990722656,
          0.01660299301147461,
          0.011173009872436523,
          0.012819051742553711,
          0.009151935577392578,
          0.015826940536499023,
          0.017107009887695312,
          0.010571956634521484,
          0.019756078720092773,
          0.014364957809448242,
          0.010298728942871094,
          0.1279003620147705,
          0.01988387107849121,
          0.01692795753479004,
          0.01772594451904297,
          0.010097026824951172,
          0.01709914207458496,
          0.009423971176147461,
          0.021821975708007812,
          0.010107994079589844,
          0.009196043014526367,
          0.009684085845947266,
          0.009254217147827148,
          0.009286165237426758,
          0.010859966278076172,
          0.014971256256103516,
          0.00925302505493164,
          0.014934778213500977,
          0.011159896850585938,
          0.01083683967590332,
          0.009486913681030273,
          0.009282827377319336,
          0.009274005889892578,
          0.009595155715942383,
          0.012691974639892578,
          0.009534835815429688,
          0.009508132934570312,
          0.013320207595825195,
          0.009209156036376953,
          0.019134998321533203,
          0.013544321060180664,
          0.010775089263916016,
          0.012835025787353516,
          0.015089988708496094,
          0.009819746017456055,
          0.01170206069946289,
          0.024810075759887695
         ]
        }
       ],
       "layout": {
        "boxmode": "group",
        "height": 600,
        "template": {
         "data": {
          "bar": [
           {
            "error_x": {
             "color": "#2a3f5f"
            },
            "error_y": {
             "color": "#2a3f5f"
            },
            "marker": {
             "line": {
              "color": "#E5ECF6",
              "width": 0.5
             },
             "pattern": {
              "fillmode": "overlay",
              "size": 10,
              "solidity": 0.2
             }
            },
            "type": "bar"
           }
          ],
          "barpolar": [
           {
            "marker": {
             "line": {
              "color": "#E5ECF6",
              "width": 0.5
             },
             "pattern": {
              "fillmode": "overlay",
              "size": 10,
              "solidity": 0.2
             }
            },
            "type": "barpolar"
           }
          ],
          "carpet": [
           {
            "aaxis": {
             "endlinecolor": "#2a3f5f",
             "gridcolor": "white",
             "linecolor": "white",
             "minorgridcolor": "white",
             "startlinecolor": "#2a3f5f"
            },
            "baxis": {
             "endlinecolor": "#2a3f5f",
             "gridcolor": "white",
             "linecolor": "white",
             "minorgridcolor": "white",
             "startlinecolor": "#2a3f5f"
            },
            "type": "carpet"
           }
          ],
          "choropleth": [
           {
            "colorbar": {
             "outlinewidth": 0,
             "ticks": ""
            },
            "type": "choropleth"
           }
          ],
          "contour": [
           {
            "colorbar": {
             "outlinewidth": 0,
             "ticks": ""
            },
            "colorscale": [
             [
              0,
              "#0d0887"
             ],
             [
              0.1111111111111111,
              "#46039f"
             ],
             [
              0.2222222222222222,
              "#7201a8"
             ],
             [
              0.3333333333333333,
              "#9c179e"
             ],
             [
              0.4444444444444444,
              "#bd3786"
             ],
             [
              0.5555555555555556,
              "#d8576b"
             ],
             [
              0.6666666666666666,
              "#ed7953"
             ],
             [
              0.7777777777777778,
              "#fb9f3a"
             ],
             [
              0.8888888888888888,
              "#fdca26"
             ],
             [
              1,
              "#f0f921"
             ]
            ],
            "type": "contour"
           }
          ],
          "contourcarpet": [
           {
            "colorbar": {
             "outlinewidth": 0,
             "ticks": ""
            },
            "type": "contourcarpet"
           }
          ],
          "heatmap": [
           {
            "colorbar": {
             "outlinewidth": 0,
             "ticks": ""
            },
            "colorscale": [
             [
              0,
              "#0d0887"
             ],
             [
              0.1111111111111111,
              "#46039f"
             ],
             [
              0.2222222222222222,
              "#7201a8"
             ],
             [
              0.3333333333333333,
              "#9c179e"
             ],
             [
              0.4444444444444444,
              "#bd3786"
             ],
             [
              0.5555555555555556,
              "#d8576b"
             ],
             [
              0.6666666666666666,
              "#ed7953"
             ],
             [
              0.7777777777777778,
              "#fb9f3a"
             ],
             [
              0.8888888888888888,
              "#fdca26"
             ],
             [
              1,
              "#f0f921"
             ]
            ],
            "type": "heatmap"
           }
          ],
          "heatmapgl": [
           {
            "colorbar": {
             "outlinewidth": 0,
             "ticks": ""
            },
            "colorscale": [
             [
              0,
              "#0d0887"
             ],
             [
              0.1111111111111111,
              "#46039f"
             ],
             [
              0.2222222222222222,
              "#7201a8"
             ],
             [
              0.3333333333333333,
              "#9c179e"
             ],
             [
              0.4444444444444444,
              "#bd3786"
             ],
             [
              0.5555555555555556,
              "#d8576b"
             ],
             [
              0.6666666666666666,
              "#ed7953"
             ],
             [
              0.7777777777777778,
              "#fb9f3a"
             ],
             [
              0.8888888888888888,
              "#fdca26"
             ],
             [
              1,
              "#f0f921"
             ]
            ],
            "type": "heatmapgl"
           }
          ],
          "histogram": [
           {
            "marker": {
             "pattern": {
              "fillmode": "overlay",
              "size": 10,
              "solidity": 0.2
             }
            },
            "type": "histogram"
           }
          ],
          "histogram2d": [
           {
            "colorbar": {
             "outlinewidth": 0,
             "ticks": ""
            },
            "colorscale": [
             [
              0,
              "#0d0887"
             ],
             [
              0.1111111111111111,
              "#46039f"
             ],
             [
              0.2222222222222222,
              "#7201a8"
             ],
             [
              0.3333333333333333,
              "#9c179e"
             ],
             [
              0.4444444444444444,
              "#bd3786"
             ],
             [
              0.5555555555555556,
              "#d8576b"
             ],
             [
              0.6666666666666666,
              "#ed7953"
             ],
             [
              0.7777777777777778,
              "#fb9f3a"
             ],
             [
              0.8888888888888888,
              "#fdca26"
             ],
             [
              1,
              "#f0f921"
             ]
            ],
            "type": "histogram2d"
           }
          ],
          "histogram2dcontour": [
           {
            "colorbar": {
             "outlinewidth": 0,
             "ticks": ""
            },
            "colorscale": [
             [
              0,
              "#0d0887"
             ],
             [
              0.1111111111111111,
              "#46039f"
             ],
             [
              0.2222222222222222,
              "#7201a8"
             ],
             [
              0.3333333333333333,
              "#9c179e"
             ],
             [
              0.4444444444444444,
              "#bd3786"
             ],
             [
              0.5555555555555556,
              "#d8576b"
             ],
             [
              0.6666666666666666,
              "#ed7953"
             ],
             [
              0.7777777777777778,
              "#fb9f3a"
             ],
             [
              0.8888888888888888,
              "#fdca26"
             ],
             [
              1,
              "#f0f921"
             ]
            ],
            "type": "histogram2dcontour"
           }
          ],
          "mesh3d": [
           {
            "colorbar": {
             "outlinewidth": 0,
             "ticks": ""
            },
            "type": "mesh3d"
           }
          ],
          "parcoords": [
           {
            "line": {
             "colorbar": {
              "outlinewidth": 0,
              "ticks": ""
             }
            },
            "type": "parcoords"
           }
          ],
          "pie": [
           {
            "automargin": true,
            "type": "pie"
           }
          ],
          "scatter": [
           {
            "fillpattern": {
             "fillmode": "overlay",
             "size": 10,
             "solidity": 0.2
            },
            "type": "scatter"
           }
          ],
          "scatter3d": [
           {
            "line": {
             "colorbar": {
              "outlinewidth": 0,
              "ticks": ""
             }
            },
            "marker": {
             "colorbar": {
              "outlinewidth": 0,
              "ticks": ""
             }
            },
            "type": "scatter3d"
           }
          ],
          "scattercarpet": [
           {
            "marker": {
             "colorbar": {
              "outlinewidth": 0,
              "ticks": ""
             }
            },
            "type": "scattercarpet"
           }
          ],
          "scattergeo": [
           {
            "marker": {
             "colorbar": {
              "outlinewidth": 0,
              "ticks": ""
             }
            },
            "type": "scattergeo"
           }
          ],
          "scattergl": [
           {
            "marker": {
             "colorbar": {
              "outlinewidth": 0,
              "ticks": ""
             }
            },
            "type": "scattergl"
           }
          ],
          "scattermapbox": [
           {
            "marker": {
             "colorbar": {
              "outlinewidth": 0,
              "ticks": ""
             }
            },
            "type": "scattermapbox"
           }
          ],
          "scatterpolar": [
           {
            "marker": {
             "colorbar": {
              "outlinewidth": 0,
              "ticks": ""
             }
            },
            "type": "scatterpolar"
           }
          ],
          "scatterpolargl": [
           {
            "marker": {
             "colorbar": {
              "outlinewidth": 0,
              "ticks": ""
             }
            },
            "type": "scatterpolargl"
           }
          ],
          "scatterternary": [
           {
            "marker": {
             "colorbar": {
              "outlinewidth": 0,
              "ticks": ""
             }
            },
            "type": "scatterternary"
           }
          ],
          "surface": [
           {
            "colorbar": {
             "outlinewidth": 0,
             "ticks": ""
            },
            "colorscale": [
             [
              0,
              "#0d0887"
             ],
             [
              0.1111111111111111,
              "#46039f"
             ],
             [
              0.2222222222222222,
              "#7201a8"
             ],
             [
              0.3333333333333333,
              "#9c179e"
             ],
             [
              0.4444444444444444,
              "#bd3786"
             ],
             [
              0.5555555555555556,
              "#d8576b"
             ],
             [
              0.6666666666666666,
              "#ed7953"
             ],
             [
              0.7777777777777778,
              "#fb9f3a"
             ],
             [
              0.8888888888888888,
              "#fdca26"
             ],
             [
              1,
              "#f0f921"
             ]
            ],
            "type": "surface"
           }
          ],
          "table": [
           {
            "cells": {
             "fill": {
              "color": "#EBF0F8"
             },
             "line": {
              "color": "white"
             }
            },
            "header": {
             "fill": {
              "color": "#C8D4E3"
             },
             "line": {
              "color": "white"
             }
            },
            "type": "table"
           }
          ]
         },
         "layout": {
          "annotationdefaults": {
           "arrowcolor": "#2a3f5f",
           "arrowhead": 0,
           "arrowwidth": 1
          },
          "autotypenumbers": "strict",
          "coloraxis": {
           "colorbar": {
            "outlinewidth": 0,
            "ticks": ""
           }
          },
          "colorscale": {
           "diverging": [
            [
             0,
             "#8e0152"
            ],
            [
             0.1,
             "#c51b7d"
            ],
            [
             0.2,
             "#de77ae"
            ],
            [
             0.3,
             "#f1b6da"
            ],
            [
             0.4,
             "#fde0ef"
            ],
            [
             0.5,
             "#f7f7f7"
            ],
            [
             0.6,
             "#e6f5d0"
            ],
            [
             0.7,
             "#b8e186"
            ],
            [
             0.8,
             "#7fbc41"
            ],
            [
             0.9,
             "#4d9221"
            ],
            [
             1,
             "#276419"
            ]
           ],
           "sequential": [
            [
             0,
             "#0d0887"
            ],
            [
             0.1111111111111111,
             "#46039f"
            ],
            [
             0.2222222222222222,
             "#7201a8"
            ],
            [
             0.3333333333333333,
             "#9c179e"
            ],
            [
             0.4444444444444444,
             "#bd3786"
            ],
            [
             0.5555555555555556,
             "#d8576b"
            ],
            [
             0.6666666666666666,
             "#ed7953"
            ],
            [
             0.7777777777777778,
             "#fb9f3a"
            ],
            [
             0.8888888888888888,
             "#fdca26"
            ],
            [
             1,
             "#f0f921"
            ]
           ],
           "sequentialminus": [
            [
             0,
             "#0d0887"
            ],
            [
             0.1111111111111111,
             "#46039f"
            ],
            [
             0.2222222222222222,
             "#7201a8"
            ],
            [
             0.3333333333333333,
             "#9c179e"
            ],
            [
             0.4444444444444444,
             "#bd3786"
            ],
            [
             0.5555555555555556,
             "#d8576b"
            ],
            [
             0.6666666666666666,
             "#ed7953"
            ],
            [
             0.7777777777777778,
             "#fb9f3a"
            ],
            [
             0.8888888888888888,
             "#fdca26"
            ],
            [
             1,
             "#f0f921"
            ]
           ]
          },
          "colorway": [
           "#636efa",
           "#EF553B",
           "#00cc96",
           "#ab63fa",
           "#FFA15A",
           "#19d3f3",
           "#FF6692",
           "#B6E880",
           "#FF97FF",
           "#FECB52"
          ],
          "font": {
           "color": "#2a3f5f"
          },
          "geo": {
           "bgcolor": "white",
           "lakecolor": "white",
           "landcolor": "#E5ECF6",
           "showlakes": true,
           "showland": true,
           "subunitcolor": "white"
          },
          "hoverlabel": {
           "align": "left"
          },
          "hovermode": "closest",
          "mapbox": {
           "style": "light"
          },
          "paper_bgcolor": "white",
          "plot_bgcolor": "#E5ECF6",
          "polar": {
           "angularaxis": {
            "gridcolor": "white",
            "linecolor": "white",
            "ticks": ""
           },
           "bgcolor": "#E5ECF6",
           "radialaxis": {
            "gridcolor": "white",
            "linecolor": "white",
            "ticks": ""
           }
          },
          "scene": {
           "xaxis": {
            "backgroundcolor": "#E5ECF6",
            "gridcolor": "white",
            "gridwidth": 2,
            "linecolor": "white",
            "showbackground": true,
            "ticks": "",
            "zerolinecolor": "white"
           },
           "yaxis": {
            "backgroundcolor": "#E5ECF6",
            "gridcolor": "white",
            "gridwidth": 2,
            "linecolor": "white",
            "showbackground": true,
            "ticks": "",
            "zerolinecolor": "white"
           },
           "zaxis": {
            "backgroundcolor": "#E5ECF6",
            "gridcolor": "white",
            "gridwidth": 2,
            "linecolor": "white",
            "showbackground": true,
            "ticks": "",
            "zerolinecolor": "white"
           }
          },
          "shapedefaults": {
           "line": {
            "color": "#2a3f5f"
           }
          },
          "ternary": {
           "aaxis": {
            "gridcolor": "white",
            "linecolor": "white",
            "ticks": ""
           },
           "baxis": {
            "gridcolor": "white",
            "linecolor": "white",
            "ticks": ""
           },
           "bgcolor": "#E5ECF6",
           "caxis": {
            "gridcolor": "white",
            "linecolor": "white",
            "ticks": ""
           }
          },
          "title": {
           "x": 0.05
          },
          "xaxis": {
           "automargin": true,
           "gridcolor": "white",
           "linecolor": "white",
           "ticks": "",
           "title": {
            "standoff": 15
           },
           "zerolinecolor": "white",
           "zerolinewidth": 2
          },
          "yaxis": {
           "automargin": true,
           "gridcolor": "white",
           "linecolor": "white",
           "ticks": "",
           "title": {
            "standoff": 15
           },
           "zerolinecolor": "white",
           "zerolinewidth": 2
          }
         }
        },
        "title": {
         "text": "Train times (kernel=gaussian)"
        },
        "width": 800,
        "xaxis": {
         "title": {
          "text": "dataset"
         }
        },
        "yaxis": {
         "title": {
          "text": "linear(train time)"
         }
        }
       }
      }
     },
     "metadata": {},
     "output_type": "display_data"
    }
   ],
   "source": [
    "scale = 'linear'\n",
    "\n",
    "for result in results:\n",
    "    name = result['name']\n",
    "    color = colors_list[names.index(name)]\n",
    "\n",
    "    if scale == 'log2':\n",
    "        y = np.log2(np.abs(result[\"train_times\"]))\n",
    "\n",
    "    elif scale == 'linear':\n",
    "        y = np.abs(result[\"train_times\"])\n",
    "\n",
    "    trace = go.Box(\n",
    "        x=[dataset,]*len(result[\"train_times\"]),\n",
    "        y=y,\n",
    "        name=name,\n",
    "        # opacity=0.5,\n",
    "        legendgroup=name,\n",
    "        line_color=color,\n",
    "        offsetgroup=name,\n",
    "        showlegend=color not in colors_used,\n",
    "        boxmean=True,\n",
    "    )\n",
    "\n",
    "    fig.add_trace(trace)\n",
    "    colors_used.add(color)\n",
    "\n",
    "fig.update_yaxes(title_text=f\"{scale}(train time)\")\n",
    "fig.update_xaxes(title_text=\"dataset\")\n",
    "fig.update_layout(\n",
    "    width=800,\n",
    "    height=600,\n",
    "    title=f\"Train times (kernel={kernel})\",\n",
    "    boxmode='group'\n",
    ")"
   ]
  },
  {
   "cell_type": "code",
   "execution_count": 10,
   "metadata": {},
   "outputs": [],
   "source": [
    "# save fig to file\n",
    "fig_file = os.path.join(\n",
    "    fig_dir,\n",
    "    f\"train_time-{method}-k={kernel}-dataset={dataset}-t{n_trials}.png\"\n",
    ")\n",
    "fig.write_image(fig_file)"
   ]
  },
  {
   "cell_type": "markdown",
   "metadata": {},
   "source": [
    "## Predict times"
   ]
  },
  {
   "cell_type": "code",
   "execution_count": 11,
   "metadata": {},
   "outputs": [],
   "source": [
    "fig = go.Figure()\n",
    "\n",
    "colors_list = colors.qualitative.Plotly * (\n",
    "    len(thin_list) // len(colors.qualitative.Plotly) + 1\n",
    ")\n",
    "colors_used = set()"
   ]
  },
  {
   "cell_type": "code",
   "execution_count": 12,
   "metadata": {},
   "outputs": [
    {
     "data": {
      "application/vnd.plotly.v1+json": {
       "config": {
        "plotlyServerURL": "https://plot.ly"
       },
       "data": [
        {
         "boxmean": true,
         "legendgroup": "full-krr",
         "line": {
          "color": "#636EFA"
         },
         "name": "full-krr",
         "offsetgroup": "full-krr",
         "showlegend": true,
         "type": "box",
         "x": [
          "housing"
         ],
         "y": [
          0.7024319171905518
         ]
        },
        {
         "boxmean": true,
         "legendgroup": "st-krr",
         "line": {
          "color": "#EF553B"
         },
         "name": "st-krr",
         "offsetgroup": "st-krr",
         "showlegend": true,
         "type": "box",
         "x": [
          "housing",
          "housing",
          "housing",
          "housing",
          "housing",
          "housing",
          "housing",
          "housing",
          "housing",
          "housing",
          "housing",
          "housing",
          "housing",
          "housing",
          "housing",
          "housing",
          "housing",
          "housing",
          "housing",
          "housing",
          "housing",
          "housing",
          "housing",
          "housing",
          "housing",
          "housing",
          "housing",
          "housing",
          "housing",
          "housing",
          "housing",
          "housing",
          "housing",
          "housing",
          "housing",
          "housing",
          "housing",
          "housing",
          "housing",
          "housing",
          "housing",
          "housing",
          "housing",
          "housing",
          "housing",
          "housing",
          "housing",
          "housing",
          "housing",
          "housing",
          "housing",
          "housing",
          "housing",
          "housing",
          "housing",
          "housing",
          "housing",
          "housing",
          "housing",
          "housing",
          "housing",
          "housing",
          "housing",
          "housing",
          "housing",
          "housing",
          "housing",
          "housing",
          "housing",
          "housing",
          "housing",
          "housing",
          "housing",
          "housing",
          "housing",
          "housing",
          "housing",
          "housing",
          "housing",
          "housing",
          "housing",
          "housing",
          "housing",
          "housing",
          "housing",
          "housing",
          "housing",
          "housing",
          "housing",
          "housing",
          "housing",
          "housing",
          "housing",
          "housing",
          "housing",
          "housing",
          "housing",
          "housing",
          "housing",
          "housing"
         ],
         "y": [
          0.015481948852539062,
          0.011858940124511719,
          0.004929065704345703,
          0.009851932525634766,
          0.053839921951293945,
          0.012823820114135742,
          0.00680994987487793,
          0.007657051086425781,
          0.010957956314086914,
          0.005954742431640625,
          0.012353181838989258,
          0.007770061492919922,
          0.005414009094238281,
          0.007439136505126953,
          0.005362749099731445,
          0.005347013473510742,
          0.005919933319091797,
          0.010148048400878906,
          0.014873981475830078,
          0.0050678253173828125,
          0.0051991939544677734,
          0.005590200424194336,
          0.005343198776245117,
          0.008611679077148438,
          0.005038738250732422,
          0.013390779495239258,
          0.011136770248413086,
          0.006360054016113281,
          0.006936073303222656,
          0.005021810531616211,
          0.006731986999511719,
          0.008337736129760742,
          0.008646011352539062,
          0.006261110305786133,
          0.004910707473754883,
          0.00583195686340332,
          0.01300191879272461,
          0.015396833419799805,
          0.01892995834350586,
          0.006115913391113281,
          0.005978107452392578,
          0.00687098503112793,
          0.00806879997253418,
          0.0067179203033447266,
          0.005566835403442383,
          0.006276845932006836,
          0.005643129348754883,
          0.006453990936279297,
          0.011243104934692383,
          0.00879979133605957,
          0.0052127838134765625,
          0.005980253219604492,
          0.006263017654418945,
          0.0065343379974365234,
          0.005650997161865234,
          0.005403995513916016,
          0.0058138370513916016,
          0.006916999816894531,
          0.006030082702636719,
          0.02569890022277832,
          0.02132892608642578,
          0.0056378841400146484,
          0.005420207977294922,
          0.008107185363769531,
          0.005735874176025391,
          0.009594202041625977,
          0.0057220458984375,
          0.006036043167114258,
          0.007061004638671875,
          0.005755186080932617,
          0.014764070510864258,
          0.005051136016845703,
          0.012275934219360352,
          0.0071947574615478516,
          0.005388975143432617,
          0.017338037490844727,
          0.0056951045989990234,
          0.01871514320373535,
          0.005151987075805664,
          0.008881807327270508,
          0.005385875701904297,
          0.01654195785522461,
          0.015507936477661133,
          0.006035804748535156,
          0.009955167770385742,
          0.011038780212402344,
          0.008570194244384766,
          0.004952907562255859,
          0.01943802833557129,
          0.008983135223388672,
          0.012721061706542969,
          0.013109922409057617,
          0.009523868560791016,
          0.00767827033996582,
          0.005590200424194336,
          0.007597923278808594,
          0.0063250064849853516,
          0.009760856628417969,
          0.007539033889770508,
          0.013606786727905273
         ]
        },
        {
         "boxmean": true,
         "legendgroup": "kt-krr",
         "line": {
          "color": "#00CC96"
         },
         "name": "kt-krr",
         "offsetgroup": "kt-krr",
         "showlegend": true,
         "type": "box",
         "x": [
          "housing",
          "housing",
          "housing",
          "housing",
          "housing",
          "housing",
          "housing",
          "housing",
          "housing",
          "housing",
          "housing",
          "housing",
          "housing",
          "housing",
          "housing",
          "housing",
          "housing",
          "housing",
          "housing",
          "housing",
          "housing",
          "housing",
          "housing",
          "housing",
          "housing",
          "housing",
          "housing",
          "housing",
          "housing",
          "housing",
          "housing",
          "housing",
          "housing",
          "housing",
          "housing",
          "housing",
          "housing",
          "housing",
          "housing",
          "housing",
          "housing",
          "housing",
          "housing",
          "housing",
          "housing",
          "housing",
          "housing",
          "housing",
          "housing",
          "housing",
          "housing",
          "housing",
          "housing",
          "housing",
          "housing",
          "housing",
          "housing",
          "housing",
          "housing",
          "housing",
          "housing",
          "housing",
          "housing",
          "housing",
          "housing",
          "housing",
          "housing",
          "housing",
          "housing",
          "housing",
          "housing",
          "housing",
          "housing",
          "housing",
          "housing",
          "housing",
          "housing",
          "housing",
          "housing",
          "housing",
          "housing",
          "housing",
          "housing",
          "housing",
          "housing",
          "housing",
          "housing",
          "housing",
          "housing",
          "housing",
          "housing",
          "housing",
          "housing",
          "housing",
          "housing",
          "housing",
          "housing",
          "housing",
          "housing",
          "housing"
         ],
         "y": [
          0.020973682403564453,
          0.009274721145629883,
          0.005574941635131836,
          0.012501955032348633,
          0.014192819595336914,
          0.013936042785644531,
          0.007941007614135742,
          0.007616996765136719,
          0.005063295364379883,
          0.007138729095458984,
          0.006070137023925781,
          0.005110025405883789,
          0.009754180908203125,
          0.010206937789916992,
          0.0059070587158203125,
          0.0076253414154052734,
          0.005743741989135742,
          0.008339166641235352,
          0.008063316345214844,
          0.011019229888916016,
          0.018564939498901367,
          0.00555419921875,
          0.005039691925048828,
          0.005455970764160156,
          0.007029056549072266,
          0.006361961364746094,
          0.008945226669311523,
          0.007387876510620117,
          0.011140823364257812,
          0.0050640106201171875,
          0.004721879959106445,
          0.007506132125854492,
          0.008852005004882812,
          0.005423069000244141,
          0.005200862884521484,
          0.005401134490966797,
          0.006070137023925781,
          0.007035017013549805,
          0.005726814270019531,
          0.009636163711547852,
          0.006385087966918945,
          0.01102590560913086,
          0.005065202713012695,
          0.011055946350097656,
          0.00676417350769043,
          0.005339145660400391,
          0.005164146423339844,
          0.0052030086517333984,
          0.017696142196655273,
          0.005295991897583008,
          0.0056231021881103516,
          0.011590242385864258,
          0.005491971969604492,
          0.00896310806274414,
          0.009361743927001953,
          0.0055789947509765625,
          0.010062217712402344,
          0.013936996459960938,
          0.009298086166381836,
          0.006103038787841797,
          0.00516819953918457,
          0.007772922515869141,
          0.005298137664794922,
          0.007730245590209961,
          0.012011051177978516,
          0.008188009262084961,
          0.006494998931884766,
          0.012024879455566406,
          0.010231971740722656,
          0.006490945816040039,
          0.0066068172454833984,
          0.010081052780151367,
          0.008906841278076172,
          0.0059490203857421875,
          0.008224010467529297,
          0.009428024291992188,
          0.014107942581176758,
          0.01047205924987793,
          0.00486302375793457,
          0.005192995071411133,
          0.010653972625732422,
          0.00587916374206543,
          0.005280971527099609,
          0.013839006423950195,
          0.009411811828613281,
          0.009952306747436523,
          0.009072065353393555,
          0.006794929504394531,
          0.010052919387817383,
          0.015134811401367188,
          0.006247043609619141,
          0.004944801330566406,
          0.0050771236419677734,
          0.006623029708862305,
          0.009313106536865234,
          0.007792949676513672,
          0.010277032852172852,
          0.010033130645751953,
          0.006412029266357422,
          0.009564876556396484
         ]
        }
       ],
       "layout": {
        "boxmode": "group",
        "height": 600,
        "template": {
         "data": {
          "bar": [
           {
            "error_x": {
             "color": "#2a3f5f"
            },
            "error_y": {
             "color": "#2a3f5f"
            },
            "marker": {
             "line": {
              "color": "#E5ECF6",
              "width": 0.5
             },
             "pattern": {
              "fillmode": "overlay",
              "size": 10,
              "solidity": 0.2
             }
            },
            "type": "bar"
           }
          ],
          "barpolar": [
           {
            "marker": {
             "line": {
              "color": "#E5ECF6",
              "width": 0.5
             },
             "pattern": {
              "fillmode": "overlay",
              "size": 10,
              "solidity": 0.2
             }
            },
            "type": "barpolar"
           }
          ],
          "carpet": [
           {
            "aaxis": {
             "endlinecolor": "#2a3f5f",
             "gridcolor": "white",
             "linecolor": "white",
             "minorgridcolor": "white",
             "startlinecolor": "#2a3f5f"
            },
            "baxis": {
             "endlinecolor": "#2a3f5f",
             "gridcolor": "white",
             "linecolor": "white",
             "minorgridcolor": "white",
             "startlinecolor": "#2a3f5f"
            },
            "type": "carpet"
           }
          ],
          "choropleth": [
           {
            "colorbar": {
             "outlinewidth": 0,
             "ticks": ""
            },
            "type": "choropleth"
           }
          ],
          "contour": [
           {
            "colorbar": {
             "outlinewidth": 0,
             "ticks": ""
            },
            "colorscale": [
             [
              0,
              "#0d0887"
             ],
             [
              0.1111111111111111,
              "#46039f"
             ],
             [
              0.2222222222222222,
              "#7201a8"
             ],
             [
              0.3333333333333333,
              "#9c179e"
             ],
             [
              0.4444444444444444,
              "#bd3786"
             ],
             [
              0.5555555555555556,
              "#d8576b"
             ],
             [
              0.6666666666666666,
              "#ed7953"
             ],
             [
              0.7777777777777778,
              "#fb9f3a"
             ],
             [
              0.8888888888888888,
              "#fdca26"
             ],
             [
              1,
              "#f0f921"
             ]
            ],
            "type": "contour"
           }
          ],
          "contourcarpet": [
           {
            "colorbar": {
             "outlinewidth": 0,
             "ticks": ""
            },
            "type": "contourcarpet"
           }
          ],
          "heatmap": [
           {
            "colorbar": {
             "outlinewidth": 0,
             "ticks": ""
            },
            "colorscale": [
             [
              0,
              "#0d0887"
             ],
             [
              0.1111111111111111,
              "#46039f"
             ],
             [
              0.2222222222222222,
              "#7201a8"
             ],
             [
              0.3333333333333333,
              "#9c179e"
             ],
             [
              0.4444444444444444,
              "#bd3786"
             ],
             [
              0.5555555555555556,
              "#d8576b"
             ],
             [
              0.6666666666666666,
              "#ed7953"
             ],
             [
              0.7777777777777778,
              "#fb9f3a"
             ],
             [
              0.8888888888888888,
              "#fdca26"
             ],
             [
              1,
              "#f0f921"
             ]
            ],
            "type": "heatmap"
           }
          ],
          "heatmapgl": [
           {
            "colorbar": {
             "outlinewidth": 0,
             "ticks": ""
            },
            "colorscale": [
             [
              0,
              "#0d0887"
             ],
             [
              0.1111111111111111,
              "#46039f"
             ],
             [
              0.2222222222222222,
              "#7201a8"
             ],
             [
              0.3333333333333333,
              "#9c179e"
             ],
             [
              0.4444444444444444,
              "#bd3786"
             ],
             [
              0.5555555555555556,
              "#d8576b"
             ],
             [
              0.6666666666666666,
              "#ed7953"
             ],
             [
              0.7777777777777778,
              "#fb9f3a"
             ],
             [
              0.8888888888888888,
              "#fdca26"
             ],
             [
              1,
              "#f0f921"
             ]
            ],
            "type": "heatmapgl"
           }
          ],
          "histogram": [
           {
            "marker": {
             "pattern": {
              "fillmode": "overlay",
              "size": 10,
              "solidity": 0.2
             }
            },
            "type": "histogram"
           }
          ],
          "histogram2d": [
           {
            "colorbar": {
             "outlinewidth": 0,
             "ticks": ""
            },
            "colorscale": [
             [
              0,
              "#0d0887"
             ],
             [
              0.1111111111111111,
              "#46039f"
             ],
             [
              0.2222222222222222,
              "#7201a8"
             ],
             [
              0.3333333333333333,
              "#9c179e"
             ],
             [
              0.4444444444444444,
              "#bd3786"
             ],
             [
              0.5555555555555556,
              "#d8576b"
             ],
             [
              0.6666666666666666,
              "#ed7953"
             ],
             [
              0.7777777777777778,
              "#fb9f3a"
             ],
             [
              0.8888888888888888,
              "#fdca26"
             ],
             [
              1,
              "#f0f921"
             ]
            ],
            "type": "histogram2d"
           }
          ],
          "histogram2dcontour": [
           {
            "colorbar": {
             "outlinewidth": 0,
             "ticks": ""
            },
            "colorscale": [
             [
              0,
              "#0d0887"
             ],
             [
              0.1111111111111111,
              "#46039f"
             ],
             [
              0.2222222222222222,
              "#7201a8"
             ],
             [
              0.3333333333333333,
              "#9c179e"
             ],
             [
              0.4444444444444444,
              "#bd3786"
             ],
             [
              0.5555555555555556,
              "#d8576b"
             ],
             [
              0.6666666666666666,
              "#ed7953"
             ],
             [
              0.7777777777777778,
              "#fb9f3a"
             ],
             [
              0.8888888888888888,
              "#fdca26"
             ],
             [
              1,
              "#f0f921"
             ]
            ],
            "type": "histogram2dcontour"
           }
          ],
          "mesh3d": [
           {
            "colorbar": {
             "outlinewidth": 0,
             "ticks": ""
            },
            "type": "mesh3d"
           }
          ],
          "parcoords": [
           {
            "line": {
             "colorbar": {
              "outlinewidth": 0,
              "ticks": ""
             }
            },
            "type": "parcoords"
           }
          ],
          "pie": [
           {
            "automargin": true,
            "type": "pie"
           }
          ],
          "scatter": [
           {
            "fillpattern": {
             "fillmode": "overlay",
             "size": 10,
             "solidity": 0.2
            },
            "type": "scatter"
           }
          ],
          "scatter3d": [
           {
            "line": {
             "colorbar": {
              "outlinewidth": 0,
              "ticks": ""
             }
            },
            "marker": {
             "colorbar": {
              "outlinewidth": 0,
              "ticks": ""
             }
            },
            "type": "scatter3d"
           }
          ],
          "scattercarpet": [
           {
            "marker": {
             "colorbar": {
              "outlinewidth": 0,
              "ticks": ""
             }
            },
            "type": "scattercarpet"
           }
          ],
          "scattergeo": [
           {
            "marker": {
             "colorbar": {
              "outlinewidth": 0,
              "ticks": ""
             }
            },
            "type": "scattergeo"
           }
          ],
          "scattergl": [
           {
            "marker": {
             "colorbar": {
              "outlinewidth": 0,
              "ticks": ""
             }
            },
            "type": "scattergl"
           }
          ],
          "scattermapbox": [
           {
            "marker": {
             "colorbar": {
              "outlinewidth": 0,
              "ticks": ""
             }
            },
            "type": "scattermapbox"
           }
          ],
          "scatterpolar": [
           {
            "marker": {
             "colorbar": {
              "outlinewidth": 0,
              "ticks": ""
             }
            },
            "type": "scatterpolar"
           }
          ],
          "scatterpolargl": [
           {
            "marker": {
             "colorbar": {
              "outlinewidth": 0,
              "ticks": ""
             }
            },
            "type": "scatterpolargl"
           }
          ],
          "scatterternary": [
           {
            "marker": {
             "colorbar": {
              "outlinewidth": 0,
              "ticks": ""
             }
            },
            "type": "scatterternary"
           }
          ],
          "surface": [
           {
            "colorbar": {
             "outlinewidth": 0,
             "ticks": ""
            },
            "colorscale": [
             [
              0,
              "#0d0887"
             ],
             [
              0.1111111111111111,
              "#46039f"
             ],
             [
              0.2222222222222222,
              "#7201a8"
             ],
             [
              0.3333333333333333,
              "#9c179e"
             ],
             [
              0.4444444444444444,
              "#bd3786"
             ],
             [
              0.5555555555555556,
              "#d8576b"
             ],
             [
              0.6666666666666666,
              "#ed7953"
             ],
             [
              0.7777777777777778,
              "#fb9f3a"
             ],
             [
              0.8888888888888888,
              "#fdca26"
             ],
             [
              1,
              "#f0f921"
             ]
            ],
            "type": "surface"
           }
          ],
          "table": [
           {
            "cells": {
             "fill": {
              "color": "#EBF0F8"
             },
             "line": {
              "color": "white"
             }
            },
            "header": {
             "fill": {
              "color": "#C8D4E3"
             },
             "line": {
              "color": "white"
             }
            },
            "type": "table"
           }
          ]
         },
         "layout": {
          "annotationdefaults": {
           "arrowcolor": "#2a3f5f",
           "arrowhead": 0,
           "arrowwidth": 1
          },
          "autotypenumbers": "strict",
          "coloraxis": {
           "colorbar": {
            "outlinewidth": 0,
            "ticks": ""
           }
          },
          "colorscale": {
           "diverging": [
            [
             0,
             "#8e0152"
            ],
            [
             0.1,
             "#c51b7d"
            ],
            [
             0.2,
             "#de77ae"
            ],
            [
             0.3,
             "#f1b6da"
            ],
            [
             0.4,
             "#fde0ef"
            ],
            [
             0.5,
             "#f7f7f7"
            ],
            [
             0.6,
             "#e6f5d0"
            ],
            [
             0.7,
             "#b8e186"
            ],
            [
             0.8,
             "#7fbc41"
            ],
            [
             0.9,
             "#4d9221"
            ],
            [
             1,
             "#276419"
            ]
           ],
           "sequential": [
            [
             0,
             "#0d0887"
            ],
            [
             0.1111111111111111,
             "#46039f"
            ],
            [
             0.2222222222222222,
             "#7201a8"
            ],
            [
             0.3333333333333333,
             "#9c179e"
            ],
            [
             0.4444444444444444,
             "#bd3786"
            ],
            [
             0.5555555555555556,
             "#d8576b"
            ],
            [
             0.6666666666666666,
             "#ed7953"
            ],
            [
             0.7777777777777778,
             "#fb9f3a"
            ],
            [
             0.8888888888888888,
             "#fdca26"
            ],
            [
             1,
             "#f0f921"
            ]
           ],
           "sequentialminus": [
            [
             0,
             "#0d0887"
            ],
            [
             0.1111111111111111,
             "#46039f"
            ],
            [
             0.2222222222222222,
             "#7201a8"
            ],
            [
             0.3333333333333333,
             "#9c179e"
            ],
            [
             0.4444444444444444,
             "#bd3786"
            ],
            [
             0.5555555555555556,
             "#d8576b"
            ],
            [
             0.6666666666666666,
             "#ed7953"
            ],
            [
             0.7777777777777778,
             "#fb9f3a"
            ],
            [
             0.8888888888888888,
             "#fdca26"
            ],
            [
             1,
             "#f0f921"
            ]
           ]
          },
          "colorway": [
           "#636efa",
           "#EF553B",
           "#00cc96",
           "#ab63fa",
           "#FFA15A",
           "#19d3f3",
           "#FF6692",
           "#B6E880",
           "#FF97FF",
           "#FECB52"
          ],
          "font": {
           "color": "#2a3f5f"
          },
          "geo": {
           "bgcolor": "white",
           "lakecolor": "white",
           "landcolor": "#E5ECF6",
           "showlakes": true,
           "showland": true,
           "subunitcolor": "white"
          },
          "hoverlabel": {
           "align": "left"
          },
          "hovermode": "closest",
          "mapbox": {
           "style": "light"
          },
          "paper_bgcolor": "white",
          "plot_bgcolor": "#E5ECF6",
          "polar": {
           "angularaxis": {
            "gridcolor": "white",
            "linecolor": "white",
            "ticks": ""
           },
           "bgcolor": "#E5ECF6",
           "radialaxis": {
            "gridcolor": "white",
            "linecolor": "white",
            "ticks": ""
           }
          },
          "scene": {
           "xaxis": {
            "backgroundcolor": "#E5ECF6",
            "gridcolor": "white",
            "gridwidth": 2,
            "linecolor": "white",
            "showbackground": true,
            "ticks": "",
            "zerolinecolor": "white"
           },
           "yaxis": {
            "backgroundcolor": "#E5ECF6",
            "gridcolor": "white",
            "gridwidth": 2,
            "linecolor": "white",
            "showbackground": true,
            "ticks": "",
            "zerolinecolor": "white"
           },
           "zaxis": {
            "backgroundcolor": "#E5ECF6",
            "gridcolor": "white",
            "gridwidth": 2,
            "linecolor": "white",
            "showbackground": true,
            "ticks": "",
            "zerolinecolor": "white"
           }
          },
          "shapedefaults": {
           "line": {
            "color": "#2a3f5f"
           }
          },
          "ternary": {
           "aaxis": {
            "gridcolor": "white",
            "linecolor": "white",
            "ticks": ""
           },
           "baxis": {
            "gridcolor": "white",
            "linecolor": "white",
            "ticks": ""
           },
           "bgcolor": "#E5ECF6",
           "caxis": {
            "gridcolor": "white",
            "linecolor": "white",
            "ticks": ""
           }
          },
          "title": {
           "x": 0.05
          },
          "xaxis": {
           "automargin": true,
           "gridcolor": "white",
           "linecolor": "white",
           "ticks": "",
           "title": {
            "standoff": 15
           },
           "zerolinecolor": "white",
           "zerolinewidth": 2
          },
          "yaxis": {
           "automargin": true,
           "gridcolor": "white",
           "linecolor": "white",
           "ticks": "",
           "title": {
            "standoff": 15
           },
           "zerolinecolor": "white",
           "zerolinewidth": 2
          }
         }
        },
        "title": {
         "text": "Test times (kernel=gaussian)"
        },
        "width": 800,
        "xaxis": {
         "title": {
          "text": "dataset"
         }
        },
        "yaxis": {
         "title": {
          "text": "linear(test time)"
         }
        }
       }
      }
     },
     "metadata": {},
     "output_type": "display_data"
    }
   ],
   "source": [
    "scale = 'linear'\n",
    "\n",
    "for result in results:\n",
    "    name = result['name']\n",
    "    color = colors_list[names.index(name)]\n",
    "\n",
    "    if scale == 'log2':\n",
    "        y = np.log2(np.abs(result[\"test_times\"]))\n",
    "\n",
    "    elif scale == 'linear':\n",
    "        y = np.abs(result[\"test_times\"])\n",
    "\n",
    "    trace = go.Box(\n",
    "        x=[dataset,]*len(result[\"test_times\"]),\n",
    "        y=y,\n",
    "        name=name,\n",
    "        # opacity=0.5,\n",
    "        legendgroup=name,\n",
    "        line_color=color,\n",
    "        offsetgroup=name,\n",
    "        showlegend=color not in colors_used,\n",
    "        boxmean=True,\n",
    "    )\n",
    "\n",
    "    fig.add_trace(trace)\n",
    "    colors_used.add(color)\n",
    "\n",
    "fig.update_yaxes(title_text=f\"{scale}(test time)\")\n",
    "fig.update_xaxes(title_text=\"dataset\")\n",
    "fig.update_layout(\n",
    "    width=800,\n",
    "    height=600,\n",
    "    title=f\"Test times (kernel={kernel})\",\n",
    "    boxmode='group'\n",
    ")"
   ]
  },
  {
   "cell_type": "code",
   "execution_count": 13,
   "metadata": {},
   "outputs": [],
   "source": [
    "# save fig to file\n",
    "fig_file = os.path.join(\n",
    "    fig_dir,\n",
    "    f\"test_time-{method}-k={kernel}-dataset={dataset}-t{n_trials}.png\"\n",
    ")\n",
    "fig.write_image(fig_file)"
   ]
  },
  {
   "cell_type": "code",
   "execution_count": null,
   "metadata": {},
   "outputs": [],
   "source": []
  }
 ],
 "metadata": {
  "kernelspec": {
   "display_name": "goodpoints",
   "language": "python",
   "name": "python3"
  },
  "language_info": {
   "codemirror_mode": {
    "name": "ipython",
    "version": 3
   },
   "file_extension": ".py",
   "mimetype": "text/x-python",
   "name": "python",
   "nbconvert_exporter": "python",
   "pygments_lexer": "ipython3",
   "version": "3.10.12"
  }
 },
 "nbformat": 4,
 "nbformat_minor": 2
}
